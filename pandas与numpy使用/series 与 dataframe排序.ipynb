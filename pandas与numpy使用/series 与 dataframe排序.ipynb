{
 "cells": [
  {
   "cell_type": "code",
   "execution_count": 1,
   "metadata": {
    "collapsed": true
   },
   "outputs": [],
   "source": [
    "import numpy as np\n",
    "import pandas as pd\n",
    "from pandas import Series, DataFrame"
   ]
  },
  {
   "cell_type": "markdown",
   "metadata": {},
   "source": [
    "# Series的排序"
   ]
  },
  {
   "cell_type": "code",
   "execution_count": 2,
   "metadata": {
    "collapsed": true
   },
   "outputs": [],
   "source": [
    "s1 = Series(np.random.randn(10))"
   ]
  },
  {
   "cell_type": "code",
   "execution_count": 3,
   "metadata": {},
   "outputs": [
    {
     "data": {
      "text/plain": [
       "0   -1.505131\n",
       "1    0.522106\n",
       "2    0.432652\n",
       "3   -0.199019\n",
       "4    0.703342\n",
       "5   -0.291062\n",
       "6   -0.133376\n",
       "7    0.678606\n",
       "8   -0.997883\n",
       "9    0.432588\n",
       "dtype: float64"
      ]
     },
     "execution_count": 3,
     "metadata": {},
     "output_type": "execute_result"
    }
   ],
   "source": [
    "s1"
   ]
  },
  {
   "cell_type": "code",
   "execution_count": 4,
   "metadata": {},
   "outputs": [
    {
     "data": {
      "text/plain": [
       "array([-1.5051313 ,  0.5221063 ,  0.43265163, -0.19901891,  0.70334247,\n",
       "       -0.29106188, -0.13337567,  0.67860567, -0.99788304,  0.43258844])"
      ]
     },
     "execution_count": 4,
     "metadata": {},
     "output_type": "execute_result"
    }
   ],
   "source": [
    "s1.values"
   ]
  },
  {
   "cell_type": "code",
   "execution_count": 5,
   "metadata": {},
   "outputs": [
    {
     "data": {
      "text/plain": [
       "RangeIndex(start=0, stop=10, step=1)"
      ]
     },
     "execution_count": 5,
     "metadata": {},
     "output_type": "execute_result"
    }
   ],
   "source": [
    "s1.index"
   ]
  },
  {
   "cell_type": "code",
   "execution_count": 6,
   "metadata": {
    "collapsed": true
   },
   "outputs": [],
   "source": [
    "s2 = s1.sort_values(ascending=False)"
   ]
  },
  {
   "cell_type": "code",
   "execution_count": 7,
   "metadata": {},
   "outputs": [
    {
     "data": {
      "text/plain": [
       "4    0.703342\n",
       "7    0.678606\n",
       "1    0.522106\n",
       "2    0.432652\n",
       "9    0.432588\n",
       "6   -0.133376\n",
       "3   -0.199019\n",
       "5   -0.291062\n",
       "8   -0.997883\n",
       "0   -1.505131\n",
       "dtype: float64"
      ]
     },
     "execution_count": 7,
     "metadata": {},
     "output_type": "execute_result"
    }
   ],
   "source": [
    "s2"
   ]
  },
  {
   "cell_type": "code",
   "execution_count": 8,
   "metadata": {},
   "outputs": [
    {
     "data": {
      "text/plain": [
       "0   -1.505131\n",
       "1    0.522106\n",
       "2    0.432652\n",
       "3   -0.199019\n",
       "4    0.703342\n",
       "5   -0.291062\n",
       "6   -0.133376\n",
       "7    0.678606\n",
       "8   -0.997883\n",
       "9    0.432588\n",
       "dtype: float64"
      ]
     },
     "execution_count": 8,
     "metadata": {},
     "output_type": "execute_result"
    }
   ],
   "source": [
    "s2.sort_index()"
   ]
  },
  {
   "cell_type": "markdown",
   "metadata": {},
   "source": [
    "# Dataframe的排序"
   ]
  },
  {
   "cell_type": "code",
   "execution_count": 9,
   "metadata": {
    "collapsed": true
   },
   "outputs": [],
   "source": [
    "df1 = DataFrame(np.random.randn(40).reshape(8,5), columns=['A','B','C','D','E'])"
   ]
  },
  {
   "cell_type": "code",
   "execution_count": 10,
   "metadata": {},
   "outputs": [
    {
     "data": {
      "text/html": [
       "<div>\n",
       "<style>\n",
       "    .dataframe thead tr:only-child th {\n",
       "        text-align: right;\n",
       "    }\n",
       "\n",
       "    .dataframe thead th {\n",
       "        text-align: left;\n",
       "    }\n",
       "\n",
       "    .dataframe tbody tr th {\n",
       "        vertical-align: top;\n",
       "    }\n",
       "</style>\n",
       "<table border=\"1\" class=\"dataframe\">\n",
       "  <thead>\n",
       "    <tr style=\"text-align: right;\">\n",
       "      <th></th>\n",
       "      <th>A</th>\n",
       "      <th>B</th>\n",
       "      <th>C</th>\n",
       "      <th>D</th>\n",
       "      <th>E</th>\n",
       "    </tr>\n",
       "  </thead>\n",
       "  <tbody>\n",
       "    <tr>\n",
       "      <th>0</th>\n",
       "      <td>1.312030</td>\n",
       "      <td>0.833449</td>\n",
       "      <td>0.100618</td>\n",
       "      <td>2.553228</td>\n",
       "      <td>0.228124</td>\n",
       "    </tr>\n",
       "    <tr>\n",
       "      <th>1</th>\n",
       "      <td>-1.012393</td>\n",
       "      <td>-1.650238</td>\n",
       "      <td>-1.754864</td>\n",
       "      <td>-0.251763</td>\n",
       "      <td>-0.568855</td>\n",
       "    </tr>\n",
       "    <tr>\n",
       "      <th>2</th>\n",
       "      <td>0.721488</td>\n",
       "      <td>0.172303</td>\n",
       "      <td>2.173019</td>\n",
       "      <td>0.466961</td>\n",
       "      <td>0.463060</td>\n",
       "    </tr>\n",
       "    <tr>\n",
       "      <th>3</th>\n",
       "      <td>-1.774719</td>\n",
       "      <td>0.767318</td>\n",
       "      <td>-1.110192</td>\n",
       "      <td>-0.345023</td>\n",
       "      <td>-0.022905</td>\n",
       "    </tr>\n",
       "    <tr>\n",
       "      <th>4</th>\n",
       "      <td>-0.594957</td>\n",
       "      <td>-0.358213</td>\n",
       "      <td>0.412845</td>\n",
       "      <td>0.488213</td>\n",
       "      <td>-1.941380</td>\n",
       "    </tr>\n",
       "    <tr>\n",
       "      <th>5</th>\n",
       "      <td>-1.651689</td>\n",
       "      <td>0.654391</td>\n",
       "      <td>0.223852</td>\n",
       "      <td>0.080360</td>\n",
       "      <td>1.843577</td>\n",
       "    </tr>\n",
       "    <tr>\n",
       "      <th>6</th>\n",
       "      <td>1.084936</td>\n",
       "      <td>-0.342058</td>\n",
       "      <td>-1.442469</td>\n",
       "      <td>0.965897</td>\n",
       "      <td>-1.177240</td>\n",
       "    </tr>\n",
       "    <tr>\n",
       "      <th>7</th>\n",
       "      <td>-0.187987</td>\n",
       "      <td>1.494592</td>\n",
       "      <td>-1.156331</td>\n",
       "      <td>1.690262</td>\n",
       "      <td>-1.448888</td>\n",
       "    </tr>\n",
       "  </tbody>\n",
       "</table>\n",
       "</div>"
      ],
      "text/plain": [
       "          A         B         C         D         E\n",
       "0  1.312030  0.833449  0.100618  2.553228  0.228124\n",
       "1 -1.012393 -1.650238 -1.754864 -0.251763 -0.568855\n",
       "2  0.721488  0.172303  2.173019  0.466961  0.463060\n",
       "3 -1.774719  0.767318 -1.110192 -0.345023 -0.022905\n",
       "4 -0.594957 -0.358213  0.412845  0.488213 -1.941380\n",
       "5 -1.651689  0.654391  0.223852  0.080360  1.843577\n",
       "6  1.084936 -0.342058 -1.442469  0.965897 -1.177240\n",
       "7 -0.187987  1.494592 -1.156331  1.690262 -1.448888"
      ]
     },
     "execution_count": 10,
     "metadata": {},
     "output_type": "execute_result"
    }
   ],
   "source": [
    "df1"
   ]
  },
  {
   "cell_type": "code",
   "execution_count": 11,
   "metadata": {},
   "outputs": [
    {
     "data": {
      "text/plain": [
       "1   -2.369773\n",
       "5   -2.182388\n",
       "0   -1.407659\n",
       "7   -0.665540\n",
       "2   -0.499351\n",
       "3   -0.150991\n",
       "6    0.081426\n",
       "4    2.538143\n",
       "Name: A, dtype: float64"
      ]
     },
     "execution_count": 11,
     "metadata": {},
     "output_type": "execute_result"
    }
   ],
   "source": [
    "df1['A'].sort_values()"
   ]
  },
  {
   "cell_type": "code",
   "execution_count": 12,
   "metadata": {
    "collapsed": true,
    "scrolled": true
   },
   "outputs": [],
   "source": [
    "df2 = df1.sort_values('A')"
   ]
  },
  {
   "cell_type": "code",
   "execution_count": 13,
   "metadata": {},
   "outputs": [
    {
     "data": {
      "text/html": [
       "<div>\n",
       "<style>\n",
       "    .dataframe thead tr:only-child th {\n",
       "        text-align: right;\n",
       "    }\n",
       "\n",
       "    .dataframe thead th {\n",
       "        text-align: left;\n",
       "    }\n",
       "\n",
       "    .dataframe tbody tr th {\n",
       "        vertical-align: top;\n",
       "    }\n",
       "</style>\n",
       "<table border=\"1\" class=\"dataframe\">\n",
       "  <thead>\n",
       "    <tr style=\"text-align: right;\">\n",
       "      <th></th>\n",
       "      <th>A</th>\n",
       "      <th>B</th>\n",
       "      <th>C</th>\n",
       "      <th>D</th>\n",
       "      <th>E</th>\n",
       "    </tr>\n",
       "  </thead>\n",
       "  <tbody>\n",
       "    <tr>\n",
       "      <th>1</th>\n",
       "      <td>-2.369773</td>\n",
       "      <td>0.335388</td>\n",
       "      <td>0.955628</td>\n",
       "      <td>-0.377313</td>\n",
       "      <td>-1.523516</td>\n",
       "    </tr>\n",
       "    <tr>\n",
       "      <th>5</th>\n",
       "      <td>-2.182388</td>\n",
       "      <td>0.526380</td>\n",
       "      <td>2.196212</td>\n",
       "      <td>-0.646108</td>\n",
       "      <td>-1.315029</td>\n",
       "    </tr>\n",
       "    <tr>\n",
       "      <th>0</th>\n",
       "      <td>-1.407659</td>\n",
       "      <td>0.434508</td>\n",
       "      <td>-0.769402</td>\n",
       "      <td>-1.557372</td>\n",
       "      <td>-0.439336</td>\n",
       "    </tr>\n",
       "    <tr>\n",
       "      <th>7</th>\n",
       "      <td>-0.665540</td>\n",
       "      <td>0.081015</td>\n",
       "      <td>0.111719</td>\n",
       "      <td>0.162778</td>\n",
       "      <td>0.850304</td>\n",
       "    </tr>\n",
       "    <tr>\n",
       "      <th>2</th>\n",
       "      <td>-0.499351</td>\n",
       "      <td>3.306794</td>\n",
       "      <td>-0.280044</td>\n",
       "      <td>-0.054490</td>\n",
       "      <td>-0.061546</td>\n",
       "    </tr>\n",
       "    <tr>\n",
       "      <th>3</th>\n",
       "      <td>-0.150991</td>\n",
       "      <td>0.178401</td>\n",
       "      <td>0.470797</td>\n",
       "      <td>0.452184</td>\n",
       "      <td>-0.103362</td>\n",
       "    </tr>\n",
       "    <tr>\n",
       "      <th>6</th>\n",
       "      <td>0.081426</td>\n",
       "      <td>-0.827773</td>\n",
       "      <td>1.728363</td>\n",
       "      <td>-0.127423</td>\n",
       "      <td>-0.834192</td>\n",
       "    </tr>\n",
       "    <tr>\n",
       "      <th>4</th>\n",
       "      <td>2.538143</td>\n",
       "      <td>-0.672921</td>\n",
       "      <td>0.553710</td>\n",
       "      <td>-0.650690</td>\n",
       "      <td>-0.507762</td>\n",
       "    </tr>\n",
       "  </tbody>\n",
       "</table>\n",
       "</div>"
      ],
      "text/plain": [
       "          A         B         C         D         E\n",
       "1 -2.369773  0.335388  0.955628 -0.377313 -1.523516\n",
       "5 -2.182388  0.526380  2.196212 -0.646108 -1.315029\n",
       "0 -1.407659  0.434508 -0.769402 -1.557372 -0.439336\n",
       "7 -0.665540  0.081015  0.111719  0.162778  0.850304\n",
       "2 -0.499351  3.306794 -0.280044 -0.054490 -0.061546\n",
       "3 -0.150991  0.178401  0.470797  0.452184 -0.103362\n",
       "6  0.081426 -0.827773  1.728363 -0.127423 -0.834192\n",
       "4  2.538143 -0.672921  0.553710 -0.650690 -0.507762"
      ]
     },
     "execution_count": 13,
     "metadata": {},
     "output_type": "execute_result"
    }
   ],
   "source": [
    "df2"
   ]
  },
  {
   "cell_type": "code",
   "execution_count": 14,
   "metadata": {},
   "outputs": [
    {
     "data": {
      "text/html": [
       "<div>\n",
       "<style>\n",
       "    .dataframe thead tr:only-child th {\n",
       "        text-align: right;\n",
       "    }\n",
       "\n",
       "    .dataframe thead th {\n",
       "        text-align: left;\n",
       "    }\n",
       "\n",
       "    .dataframe tbody tr th {\n",
       "        vertical-align: top;\n",
       "    }\n",
       "</style>\n",
       "<table border=\"1\" class=\"dataframe\">\n",
       "  <thead>\n",
       "    <tr style=\"text-align: right;\">\n",
       "      <th></th>\n",
       "      <th>A</th>\n",
       "      <th>B</th>\n",
       "      <th>C</th>\n",
       "      <th>D</th>\n",
       "      <th>E</th>\n",
       "    </tr>\n",
       "  </thead>\n",
       "  <tbody>\n",
       "    <tr>\n",
       "      <th>0</th>\n",
       "      <td>-1.407659</td>\n",
       "      <td>0.434508</td>\n",
       "      <td>-0.769402</td>\n",
       "      <td>-1.557372</td>\n",
       "      <td>-0.439336</td>\n",
       "    </tr>\n",
       "    <tr>\n",
       "      <th>1</th>\n",
       "      <td>-2.369773</td>\n",
       "      <td>0.335388</td>\n",
       "      <td>0.955628</td>\n",
       "      <td>-0.377313</td>\n",
       "      <td>-1.523516</td>\n",
       "    </tr>\n",
       "    <tr>\n",
       "      <th>2</th>\n",
       "      <td>-0.499351</td>\n",
       "      <td>3.306794</td>\n",
       "      <td>-0.280044</td>\n",
       "      <td>-0.054490</td>\n",
       "      <td>-0.061546</td>\n",
       "    </tr>\n",
       "    <tr>\n",
       "      <th>3</th>\n",
       "      <td>-0.150991</td>\n",
       "      <td>0.178401</td>\n",
       "      <td>0.470797</td>\n",
       "      <td>0.452184</td>\n",
       "      <td>-0.103362</td>\n",
       "    </tr>\n",
       "    <tr>\n",
       "      <th>4</th>\n",
       "      <td>2.538143</td>\n",
       "      <td>-0.672921</td>\n",
       "      <td>0.553710</td>\n",
       "      <td>-0.650690</td>\n",
       "      <td>-0.507762</td>\n",
       "    </tr>\n",
       "    <tr>\n",
       "      <th>5</th>\n",
       "      <td>-2.182388</td>\n",
       "      <td>0.526380</td>\n",
       "      <td>2.196212</td>\n",
       "      <td>-0.646108</td>\n",
       "      <td>-1.315029</td>\n",
       "    </tr>\n",
       "    <tr>\n",
       "      <th>6</th>\n",
       "      <td>0.081426</td>\n",
       "      <td>-0.827773</td>\n",
       "      <td>1.728363</td>\n",
       "      <td>-0.127423</td>\n",
       "      <td>-0.834192</td>\n",
       "    </tr>\n",
       "    <tr>\n",
       "      <th>7</th>\n",
       "      <td>-0.665540</td>\n",
       "      <td>0.081015</td>\n",
       "      <td>0.111719</td>\n",
       "      <td>0.162778</td>\n",
       "      <td>0.850304</td>\n",
       "    </tr>\n",
       "  </tbody>\n",
       "</table>\n",
       "</div>"
      ],
      "text/plain": [
       "          A         B         C         D         E\n",
       "0 -1.407659  0.434508 -0.769402 -1.557372 -0.439336\n",
       "1 -2.369773  0.335388  0.955628 -0.377313 -1.523516\n",
       "2 -0.499351  3.306794 -0.280044 -0.054490 -0.061546\n",
       "3 -0.150991  0.178401  0.470797  0.452184 -0.103362\n",
       "4  2.538143 -0.672921  0.553710 -0.650690 -0.507762\n",
       "5 -2.182388  0.526380  2.196212 -0.646108 -1.315029\n",
       "6  0.081426 -0.827773  1.728363 -0.127423 -0.834192\n",
       "7 -0.665540  0.081015  0.111719  0.162778  0.850304"
      ]
     },
     "execution_count": 14,
     "metadata": {},
     "output_type": "execute_result"
    }
   ],
   "source": [
    "df2.sort_index()"
   ]
  },
  {
   "cell_type": "code",
   "execution_count": 15,
   "metadata": {},
   "outputs": [
    {
     "data": {
      "text/html": [
       "<div>\n",
       "<style>\n",
       "    .dataframe thead tr:only-child th {\n",
       "        text-align: right;\n",
       "    }\n",
       "\n",
       "    .dataframe thead th {\n",
       "        text-align: left;\n",
       "    }\n",
       "\n",
       "    .dataframe tbody tr th {\n",
       "        vertical-align: top;\n",
       "    }\n",
       "</style>\n",
       "<table border=\"1\" class=\"dataframe\">\n",
       "  <thead>\n",
       "    <tr style=\"text-align: right;\">\n",
       "      <th></th>\n",
       "      <th>A</th>\n",
       "      <th>B</th>\n",
       "      <th>C</th>\n",
       "      <th>D</th>\n",
       "      <th>E</th>\n",
       "    </tr>\n",
       "  </thead>\n",
       "  <tbody>\n",
       "    <tr>\n",
       "      <th>0</th>\n",
       "      <td>-1.407659</td>\n",
       "      <td>0.434508</td>\n",
       "      <td>-0.769402</td>\n",
       "      <td>-1.557372</td>\n",
       "      <td>-0.439336</td>\n",
       "    </tr>\n",
       "    <tr>\n",
       "      <th>1</th>\n",
       "      <td>-2.369773</td>\n",
       "      <td>0.335388</td>\n",
       "      <td>0.955628</td>\n",
       "      <td>-0.377313</td>\n",
       "      <td>-1.523516</td>\n",
       "    </tr>\n",
       "    <tr>\n",
       "      <th>2</th>\n",
       "      <td>-0.499351</td>\n",
       "      <td>3.306794</td>\n",
       "      <td>-0.280044</td>\n",
       "      <td>-0.054490</td>\n",
       "      <td>-0.061546</td>\n",
       "    </tr>\n",
       "    <tr>\n",
       "      <th>3</th>\n",
       "      <td>-0.150991</td>\n",
       "      <td>0.178401</td>\n",
       "      <td>0.470797</td>\n",
       "      <td>0.452184</td>\n",
       "      <td>-0.103362</td>\n",
       "    </tr>\n",
       "    <tr>\n",
       "      <th>4</th>\n",
       "      <td>2.538143</td>\n",
       "      <td>-0.672921</td>\n",
       "      <td>0.553710</td>\n",
       "      <td>-0.650690</td>\n",
       "      <td>-0.507762</td>\n",
       "    </tr>\n",
       "    <tr>\n",
       "      <th>5</th>\n",
       "      <td>-2.182388</td>\n",
       "      <td>0.526380</td>\n",
       "      <td>2.196212</td>\n",
       "      <td>-0.646108</td>\n",
       "      <td>-1.315029</td>\n",
       "    </tr>\n",
       "    <tr>\n",
       "      <th>6</th>\n",
       "      <td>0.081426</td>\n",
       "      <td>-0.827773</td>\n",
       "      <td>1.728363</td>\n",
       "      <td>-0.127423</td>\n",
       "      <td>-0.834192</td>\n",
       "    </tr>\n",
       "    <tr>\n",
       "      <th>7</th>\n",
       "      <td>-0.665540</td>\n",
       "      <td>0.081015</td>\n",
       "      <td>0.111719</td>\n",
       "      <td>0.162778</td>\n",
       "      <td>0.850304</td>\n",
       "    </tr>\n",
       "  </tbody>\n",
       "</table>\n",
       "</div>"
      ],
      "text/plain": [
       "          A         B         C         D         E\n",
       "0 -1.407659  0.434508 -0.769402 -1.557372 -0.439336\n",
       "1 -2.369773  0.335388  0.955628 -0.377313 -1.523516\n",
       "2 -0.499351  3.306794 -0.280044 -0.054490 -0.061546\n",
       "3 -0.150991  0.178401  0.470797  0.452184 -0.103362\n",
       "4  2.538143 -0.672921  0.553710 -0.650690 -0.507762\n",
       "5 -2.182388  0.526380  2.196212 -0.646108 -1.315029\n",
       "6  0.081426 -0.827773  1.728363 -0.127423 -0.834192\n",
       "7 -0.665540  0.081015  0.111719  0.162778  0.850304"
      ]
     },
     "execution_count": 15,
     "metadata": {},
     "output_type": "execute_result"
    }
   ],
   "source": [
    "df1"
   ]
  },
  {
   "cell_type": "code",
   "execution_count": 16,
   "metadata": {},
   "outputs": [
    {
     "name": "stdout",
     "output_type": "stream",
     "text": [
      "Series和DataFrame的排序.ipynb     imdb.csv\r\n",
      "Untitled.ipynb\r\n"
     ]
    }
   ],
   "source": [
    "!ls"
   ]
  },
  {
   "cell_type": "code",
   "execution_count": null,
   "metadata": {
    "collapsed": true
   },
   "outputs": [],
   "source": [
    "df_results = pd.read_csv('imdb.csv')"
   ]
  },
  {
   "cell_type": "code",
   "execution_count": null,
   "metadata": {
    "collapsed": true
   },
   "outputs": [],
   "source": [
    "df_resu"
   ]
  },
  {
   "cell_type": "code",
   "execution_count": null,
   "metadata": {
    "collapsed": true
   },
   "outputs": [],
   "source": []
  }
 ],
 "metadata": {
  "kernelspec": {
   "display_name": "Python 3",
   "language": "python",
   "name": "python3"
  },
  "language_info": {
   "codemirror_mode": {
    "name": "ipython",
    "version": 3
   },
   "file_extension": ".py",
   "mimetype": "text/x-python",
   "name": "python",
   "nbconvert_exporter": "python",
   "pygments_lexer": "ipython3",
   "version": "3.6.3"
  }
 },
 "nbformat": 4,
 "nbformat_minor": 2
}
